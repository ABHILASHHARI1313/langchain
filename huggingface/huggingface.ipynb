{
 "cells": [
  {
   "cell_type": "code",
   "execution_count": 2,
   "metadata": {},
   "outputs": [],
   "source": [
    "from langchain_community.document_loaders import PyPDFLoader\n",
    "from langchain_community.document_loaders import PyPDFDirectoryLoader\n",
    "from langchain.text_splitter import RecursiveCharacterTextSplitter\n",
    "from langchain_community.vectorstores import FAISS\n",
    "\n",
    "from langchain_community.embeddings import HuggingFaceBgeEmbeddings\n",
    "from langchain.prompts import PromptTemplate\n",
    "\n",
    "from langchain.chains import RetrievalQA"
   ]
  },
  {
   "cell_type": "code",
   "execution_count": 3,
   "metadata": {},
   "outputs": [
    {
     "data": {
      "text/plain": [
       "962"
      ]
     },
     "execution_count": 3,
     "metadata": {},
     "output_type": "execute_result"
    }
   ],
   "source": [
    "loader = PyPDFDirectoryLoader(\"./us_census/\")\n",
    "documents = loader.load()\n",
    "text_splitter = RecursiveCharacterTextSplitter(chunk_size=1000,chunk_overlap=200)\n",
    "final_documents = text_splitter.split_documents(documents)\n",
    "len(final_documents[0].page_content)"
   ]
  },
  {
   "cell_type": "code",
   "execution_count": 4,
   "metadata": {},
   "outputs": [
    {
     "name": "stderr",
     "output_type": "stream",
     "text": [
      "C:\\Users\\Administrator\\AppData\\Local\\Temp\\ipykernel_27380\\86108442.py:1: LangChainDeprecationWarning: The class `HuggingFaceBgeEmbeddings` was deprecated in LangChain 0.2.2 and will be removed in 1.0. An updated version of the class exists in the :class:`~langchain-huggingface package and should be used instead. To use it run `pip install -U :class:`~langchain-huggingface` and import as `from :class:`~langchain_huggingface import HuggingFaceEmbeddings``.\n",
      "  huggingface_embeddings = HuggingFaceBgeEmbeddings(\n",
      "c:\\Users\\Administrator\\Desktop\\langchain\\Lib\\site-packages\\tqdm\\auto.py:21: TqdmWarning: IProgress not found. Please update jupyter and ipywidgets. See https://ipywidgets.readthedocs.io/en/stable/user_install.html\n",
      "  from .autonotebook import tqdm as notebook_tqdm\n"
     ]
    }
   ],
   "source": [
    "huggingface_embeddings = HuggingFaceBgeEmbeddings(\n",
    "    model_name=\"sentence-transformers/all-MiniLM-L6-v2\",\n",
    "    model_kwargs={\"device\":\"cpu\"},\n",
    "    encode_kwargs={\"normalize_embeddings\":True}\n",
    ")\n",
    "\n"
   ]
  },
  {
   "cell_type": "code",
   "execution_count": 5,
   "metadata": {},
   "outputs": [
    {
     "name": "stdout",
     "output_type": "stream",
     "text": [
      "[-2.49750484e-02  7.48805422e-03  6.07666112e-02  2.87433490e-02\n",
      "  7.38344118e-02  1.22540496e-01 -1.49952564e-02 -7.34630832e-03\n",
      " -1.00141093e-01 -1.65566721e-03 -1.06491121e-02  9.63609368e-02\n",
      " -2.55548488e-02 -1.02058545e-01  1.60376336e-02  1.36243049e-02\n",
      "  1.47681823e-02 -3.22496146e-02 -2.84116510e-02  8.82342458e-02\n",
      " -3.01535465e-02  2.01462489e-02 -5.24294935e-02 -3.65701946e-03\n",
      "  1.23102628e-02  5.61481016e-03  4.09074463e-02 -1.13210361e-03\n",
      " -9.47220251e-03  6.47103786e-02  8.98134261e-02 -5.35431830e-03\n",
      "  2.55072415e-02  1.17485775e-02  2.94315815e-02 -4.34862264e-02\n",
      " -3.71153317e-02  2.39203293e-02 -9.60926861e-02  1.52798528e-02\n",
      " -3.21496315e-02 -4.64300998e-02 -8.10123980e-02  1.04659766e-01\n",
      "  2.16493234e-02 -1.19761471e-03 -4.37056534e-02  8.71710852e-02\n",
      " -1.37321325e-02  5.47637045e-02  7.84174656e-04  3.08593344e-02\n",
      "  3.65715921e-02  1.41634382e-02  1.16747720e-02 -3.02507840e-02\n",
      " -3.20119001e-02 -2.99772639e-02 -2.04795245e-02 -1.95120345e-03\n",
      " -1.50643867e-02 -2.05804296e-02  1.52343605e-02  3.89632508e-02\n",
      " -5.46765886e-02  4.73911166e-02  1.70817215e-03 -1.46485623e-02\n",
      "  3.11814602e-02 -3.83572280e-02 -4.91326228e-02 -2.09213421e-02\n",
      " -2.54122354e-02 -7.96691328e-03  8.35762322e-02 -7.59055279e-03\n",
      "  3.69130597e-02  4.13234904e-02  1.19046241e-01 -3.27459164e-02\n",
      "  1.48656247e-02 -6.54279366e-02 -1.05254138e-02  3.96321081e-02\n",
      " -5.40454984e-02  1.00387232e-02 -4.64251339e-02 -5.11062257e-02\n",
      "  9.88635048e-03 -1.18499570e-01  7.05946013e-02  1.54744796e-02\n",
      "  8.27155821e-03  1.31366374e-02  1.19082136e-02 -2.07044389e-02\n",
      " -1.69925317e-02 -6.02725931e-02 -2.08243746e-02  5.53834066e-03\n",
      " -2.71226792e-03 -6.91383705e-02  2.01455634e-02 -3.06650414e-03\n",
      " -4.13903370e-02 -1.07717760e-01  1.33660166e-02 -1.57037470e-02\n",
      "  3.23979324e-03  6.58044815e-02  5.30168414e-02 -2.36005727e-02\n",
      "  1.92058235e-02  5.99614996e-03 -2.53141718e-03 -4.61637340e-02\n",
      " -1.90664420e-03 -4.01330665e-02  3.05307936e-02  1.72474831e-02\n",
      " -9.41709243e-03 -4.21577320e-03 -4.03608084e-02 -5.00293002e-02\n",
      "  5.18208463e-03  1.53470540e-03 -3.13614197e-02  4.45854758e-33\n",
      "  7.05625638e-02 -3.82768437e-02  5.00391498e-02  1.24038458e-02\n",
      " -1.54032065e-02 -4.16424312e-02  2.07276512e-02 -8.72038901e-02\n",
      "  6.72315508e-02 -2.39869393e-02 -5.29506877e-02  1.81570947e-02\n",
      "  3.81965116e-02  1.22063115e-01  3.00111109e-03 -3.23768593e-02\n",
      " -6.58629313e-02  7.23681748e-02 -4.97032888e-02  1.00123525e-01\n",
      " -4.19448465e-02  5.24051720e-03  1.59593169e-02 -9.39966179e-03\n",
      " -5.97731769e-03  2.79488489e-02  2.69744685e-03 -4.66504991e-02\n",
      "  2.17496585e-02  6.88358117e-03 -3.56850075e-03  6.54859692e-02\n",
      " -1.89460758e-02 -3.98770273e-02  1.82403252e-03  3.94455232e-02\n",
      " -8.79021455e-03  8.79288558e-03 -8.73595700e-02 -4.51568812e-02\n",
      " -6.23033531e-02  2.71834210e-02  8.41115117e-02  6.63454011e-02\n",
      "  8.43283013e-02 -4.14328538e-02  3.82145494e-03 -8.85919842e-04\n",
      " -3.26247327e-02  8.33766907e-03 -2.67041232e-02  8.41678381e-02\n",
      " -4.25848775e-02 -6.34717569e-02  3.71345435e-03 -5.27668819e-02\n",
      " -7.04811215e-02 -3.72177316e-03  2.11140122e-02 -1.99389029e-02\n",
      "  4.76711765e-02 -3.05580050e-02  8.15319568e-02 -7.67674670e-02\n",
      "  1.66058596e-02  8.97503272e-02 -1.12814093e-02 -6.01418093e-02\n",
      "  2.02507153e-02  8.37026760e-02  3.71145904e-02  5.40403612e-02\n",
      " -2.16065533e-02  3.87594625e-02 -2.43162103e-02  1.70513745e-02\n",
      " -2.15578843e-02  9.84519906e-03  8.30673054e-02  1.96213983e-02\n",
      " -1.74338277e-02 -4.40143272e-02  2.43462157e-02  1.44546749e-02\n",
      "  8.57212543e-02  1.49238389e-02  2.56076232e-02  4.42071408e-02\n",
      " -2.24997080e-03 -1.39350235e-01 -2.45771874e-02  4.02442515e-02\n",
      "  2.92532844e-03  3.22253034e-02  8.27856883e-02 -6.19394569e-33\n",
      " -3.66582237e-02 -3.60285863e-03 -5.69169456e-03 -4.80718650e-02\n",
      " -1.46824140e-02 -6.44086227e-02  3.34911570e-02 -1.30950706e-02\n",
      "  9.83089805e-02 -4.25486006e-02 -3.37415077e-02 -2.27691550e-02\n",
      "  7.26435333e-02  7.05801994e-02 -9.99408662e-02 -2.26398595e-02\n",
      " -3.48348543e-02 -1.03138067e-01 -5.32539450e-02  4.53528799e-02\n",
      " -1.12901898e-02  7.60132389e-04 -3.32050174e-02  5.26724458e-02\n",
      "  2.06465945e-02  1.71730127e-02 -4.02070023e-02  2.32513007e-02\n",
      "  9.40849259e-02 -1.41361743e-01 -2.54200846e-02  3.05799246e-02\n",
      " -5.03352955e-02  5.74296750e-02 -4.47105467e-02  5.24024945e-03\n",
      "  1.76494624e-02 -1.21437572e-02 -2.18826849e-02 -7.88027495e-02\n",
      "  1.31998226e-01 -7.26779625e-02  1.65519211e-02  5.23364246e-02\n",
      "  2.92652082e-02  4.34946008e-02  4.92822230e-02  2.58085243e-02\n",
      " -8.29382986e-02 -6.57490175e-03 -1.66799854e-02 -3.18913423e-02\n",
      "  1.10294642e-02  1.31360009e-01 -8.22447333e-03 -3.59332487e-02\n",
      "  1.87691823e-02 -1.02143742e-01 -1.15793847e-01 -8.09529983e-03\n",
      " -1.08944327e-02  5.31010404e-02 -2.25734171e-02  5.15004434e-02\n",
      " -1.61313061e-02 -7.02151656e-02  3.58265974e-02 -1.12346090e-01\n",
      "  1.74996909e-02 -8.19431394e-02 -2.44882088e-02 -7.89903253e-02\n",
      " -4.91767414e-02 -1.10988736e-01  3.20482142e-02  6.16376335e-03\n",
      "  2.77137496e-02  5.23369275e-02 -4.15415466e-02  4.27874401e-02\n",
      "  9.57150664e-03 -6.44379333e-02 -6.63020983e-02  3.27323601e-02\n",
      " -4.43197638e-02  3.55295688e-02 -1.73500851e-02 -7.69361407e-02\n",
      " -3.44947502e-02  1.04348116e-01 -1.44309133e-01  7.76462480e-02\n",
      " -1.03851929e-01  1.00236568e-04 -8.46535638e-02 -4.82989897e-08\n",
      "  6.56000003e-02  9.77826342e-02 -2.59312317e-02 -3.76055948e-02\n",
      "  4.32578586e-02 -4.25491557e-02 -9.04059559e-02  9.43259615e-03\n",
      "  3.64888436e-03  1.94011107e-02  1.55142350e-02  1.50931358e-01\n",
      "  3.69090065e-02 -5.79544380e-02  1.38939163e-02  2.11470257e-02\n",
      "  1.34785715e-02  5.49674965e-02 -6.92087319e-03  1.47158401e-02\n",
      " -6.83918521e-02  5.03088050e-02 -7.29043037e-03 -2.48287129e-03\n",
      " -1.65298693e-02  1.29618540e-01 -4.78452146e-02 -2.88330931e-02\n",
      "  5.97898215e-02  5.46900835e-03 -1.42092619e-03  1.37666613e-03\n",
      "  2.79145204e-02 -2.49764659e-02 -2.28187181e-02 -1.03492932e-02\n",
      " -9.57091711e-03 -1.11974627e-02  7.49549866e-02 -5.84024936e-02\n",
      "  8.01693350e-02  3.89269292e-02 -1.91173665e-02  1.44243203e-02\n",
      "  1.22184888e-03 -1.26780853e-01 -4.25465852e-02 -4.69727702e-02\n",
      "  3.97009961e-03 -4.31556813e-02 -5.66337854e-02 -4.99479361e-02\n",
      "  8.98909494e-02 -3.82306576e-02  6.11491874e-02 -1.33623101e-03\n",
      " -2.76628025e-02 -6.02274239e-02  1.41924592e-02  7.80741572e-02\n",
      "  1.06774434e-03 -7.39808828e-02 -5.84004521e-02  9.58032757e-02]\n",
      "(384,)\n"
     ]
    }
   ],
   "source": [
    "import numpy as np\n",
    "\n",
    "print(np.array(huggingface_embeddings.embed_query(final_documents[0].page_content)))\n",
    "print(np.array(huggingface_embeddings.embed_query(final_documents[0].page_content)).shape)"
   ]
  },
  {
   "cell_type": "code",
   "execution_count": 6,
   "metadata": {},
   "outputs": [],
   "source": [
    "vectorstores = FAISS.from_documents(final_documents[:120],huggingface_embeddings)"
   ]
  },
  {
   "cell_type": "code",
   "execution_count": 7,
   "metadata": {},
   "outputs": [
    {
     "name": "stdout",
     "output_type": "stream",
     "text": [
      "2 U.S. Census Bureau\n",
      "WHAT IS HEALTH INSURANCE COVERAGE?\n",
      "This brief presents state-level estimates of health insurance coverage \n",
      "using data from the American Community Survey (ACS). The  \n",
      "U.S. Census Bureau conducts the ACS throughout the year; the \n",
      "survey asks respondents to report their coverage at the time of \n",
      "interview. The resulting measure of health insurance coverage, \n",
      "therefore, reflects an annual average of current comprehensive \n",
      "health insurance coverage status.* This uninsured rate measures a \n",
      "different concept than the measure based on the Current Population \n",
      "Survey Annual Social and Economic Supplement (CPS ASEC). \n",
      "For reporting purposes, the ACS broadly classifies health insurance \n",
      "coverage as private insurance or public insurance. The ACS defines \n",
      "private health insurance as a plan provided through an employer \n",
      "or a union, coverage purchased directly by an individual from an \n",
      "insurance company or through an exchange (such as healthcare.\n"
     ]
    }
   ],
   "source": [
    "query = \"What is Health Insurance Coverage?\"\n",
    "response = vectorstores.similarity_search(query)\n",
    "print(response[0].page_content)"
   ]
  },
  {
   "cell_type": "code",
   "execution_count": 8,
   "metadata": {},
   "outputs": [
    {
     "name": "stdout",
     "output_type": "stream",
     "text": [
      "tags=['FAISS', 'HuggingFaceBgeEmbeddings'] vectorstore=<langchain_community.vectorstores.faiss.FAISS object at 0x0000025B27AD90D0> search_kwargs={'k': 3}\n"
     ]
    }
   ],
   "source": [
    "retriever = vectorstores.as_retriever(search_type=\"similarity\",search_kwargs={\"k\":3})\n",
    "print(retriever)"
   ]
  },
  {
   "cell_type": "code",
   "execution_count": 9,
   "metadata": {},
   "outputs": [],
   "source": [
    "import os\n",
    "from dotenv import load_dotenv\n",
    "\n",
    "\n",
    "load_dotenv()\n",
    "os.environ[\"HUGGINGFACEHUB_API_TOKEN\"]=os.getenv(\"HUGGINGFACEHUB_API_TOKEN\")"
   ]
  },
  {
   "cell_type": "code",
   "execution_count": 36,
   "metadata": {},
   "outputs": [],
   "source": [
    "from langchain_community.llms import HuggingFaceHub\n",
    "\n",
    "hf = HuggingFaceHub(repo_id=\"gpt2\",\n",
    "model_kwargs={\"temperature\":0.1,\"max_length\":500},\n",
    " task=\"text-generation\" \n",
    ")\n"
   ]
  },
  {
   "cell_type": "code",
   "execution_count": 37,
   "metadata": {},
   "outputs": [
    {
     "data": {
      "text/plain": [
       "'What is health insurance coverage?\\n\\nHealth insurance is a form of insurance that is offered to all Americans. It is a form of insurance that is offered to all Americans. It is a form of insurance that is offered to all Americans. It is a form of insurance that is offered to all Americans. It is a form of insurance that is offered to all Americans. It is a form of insurance that is offered to all Americans. It is a form of insurance that is offered to all Americans. It is a form of insurance that is offered to all Americans. It is a form of insurance that is offered to all Americans. It is a form of insurance that is offered to all Americans. It is a form of insurance that is offered to all Americans. It is a form of insurance that is offered to all Americans. It is a form of insurance that is offered to all Americans. It is a form of insurance that is offered to all Americans. It is a form of insurance that is offered to all Americans. It is a form of insurance that is offered to all Americans. It is a form of insurance that is offered to all Americans. It is a form of insurance that is offered to all Americans. It is a form of insurance that is offered to all Americans. It is a form of insurance that is offered to all Americans. It is a form of insurance that is offered to all Americans. It is a form of insurance that is offered to all Americans. It is a form of insurance that is offered to all Americans. It is a form of insurance that is offered to all Americans. It is a form of insurance that is offered to all Americans. It is a form of insurance that is offered to all Americans. It is a form of insurance that is offered to all Americans. It is a form of insurance that is offered to all Americans. It is a form of insurance that is offered to all Americans. It is a form of insurance that is offered to all Americans. It is a form of insurance that is offered to all Americans. It is a form of insurance that is offered to all Americans. It is a form of insurance that is offered to all Americans. It is a form of insurance that is offered to all Americans. It is a form of insurance that is offered to all Americans. It is a form of insurance that is offered to all Americans. It is a form of insurance that is offered to all Americans. It is a form of insurance that is offered to all Americans. It is a form of insurance that is offered to all Americans. It is a form of insurance that is offered to all Americans. It is a form of insurance that is offered to all Americans. It is a form of insurance that is offered to all Americans. It is a form of insurance that is offered to all Americans. It is a form of insurance that is offered to all Americans. It is a form of insurance that is offered to all Americans. It is a form of insurance that is offered to all Americans. It is a form of insurance that is offered to all Americans. It is a form of insurance that is offered to all Americans. It is a form of insurance that is offered to all Americans. It is a form of insurance that is offered to all Americans. It is a form of insurance that is offered to all Americans. It is a form of insurance that is offered to all Americans. It is a form of insurance that is offered to all Americans. It is a form of insurance that is offered to all Americans. It is a form of insurance that is offered to all Americans. It is a form of insurance that is offered to all Americans. It is a form of insurance that is offered to all Americans. It is a form of insurance that is offered to all Americans. It is a form of insurance that is offered to all Americans. It is a form of insurance that is offered to all Americans. It is a form of insurance that is offered to all Americans. It is a form of insurance that is offered to all Americans. It is a form of insurance that is offered to all Americans. It is a form of insurance that is offered to all Americans. It is a form of insurance that is offered to all Americans. It is a form of insurance that is offered to all Americans. It is a form of insurance that is offered to all Americans. It is a form of insurance that is offered to all Americans. It is a form of insurance that is offered to all Americans. It is a form of insurance that is offered to all Americans. It is a form of insurance that is offered to all Americans. It is a form of insurance that is offered to all Americans. It is a form of insurance that is offered to all Americans. It is a form of insurance that is offered to all Americans. It is a form of insurance that is offered to all Americans. It is a form of insurance that is offered to all Americans. It is a form of insurance that is offered to all Americans. It is a form of insurance that is offered to all Americans. It'"
      ]
     },
     "execution_count": 37,
     "metadata": {},
     "output_type": "execute_result"
    }
   ],
   "source": [
    "query = \"What is health insurance coverage?\"\n",
    "response = hf.invoke(query)\n",
    "response"
   ]
  },
  {
   "cell_type": "code",
   "execution_count": null,
   "metadata": {},
   "outputs": [],
   "source": [
    "# #Hugging Face models can be run locally through the HuggingFacePipeline class.\n",
    "# from langchain_community.llms.huggingface_pipeline import HuggingFacePipeline\n",
    "\n",
    "# hf = HuggingFacePipeline.from_model_id(\n",
    "#     model_id=\"gpt2\",\n",
    "#     task=\"text-generation\",\n",
    "#     pipeline_kwargs={\"temperature\": 0, \"max_new_tokens\": 300}\n",
    "# )\n",
    "\n",
    "# llm = hf \n",
    "# llm.invoke(query)"
   ]
  },
  {
   "cell_type": "code",
   "execution_count": 38,
   "metadata": {},
   "outputs": [],
   "source": [
    "\n",
    "prompt_template=\"\"\"\n",
    "Use the following piece of context to answer the question asked.\n",
    "Please try to provide the answer only based on the context\n",
    "\n",
    "{context}\n",
    "Question:{question}\n",
    "\n",
    "Helpful Answers:\n",
    " \"\"\""
   ]
  },
  {
   "cell_type": "code",
   "execution_count": 39,
   "metadata": {},
   "outputs": [],
   "source": [
    "prompt  = PromptTemplate(template=prompt_template,input_variables=[\"context\",\"question\"])"
   ]
  },
  {
   "cell_type": "code",
   "execution_count": 40,
   "metadata": {},
   "outputs": [],
   "source": [
    "retrievalQA=RetrievalQA.from_chain_type(\n",
    "    llm=hf,\n",
    "    chain_type=\"stuff\",\n",
    "    retriever=retriever,\n",
    "    return_source_documents=True,\n",
    "    chain_type_kwargs={\"prompt\":prompt}\n",
    ")"
   ]
  },
  {
   "cell_type": "code",
   "execution_count": 41,
   "metadata": {},
   "outputs": [],
   "source": [
    "\n",
    "query=\"\"\"DIFFERENCES IN THE\n",
    "UNINSURED RATE BY STATE\n",
    "IN 2022\"\"\""
   ]
  },
  {
   "cell_type": "code",
   "execution_count": 42,
   "metadata": {},
   "outputs": [],
   "source": [
    "result = retrievalQA.invoke({\"query\":query})\n"
   ]
  },
  {
   "cell_type": "code",
   "execution_count": 44,
   "metadata": {},
   "outputs": [
    {
     "name": "stdout",
     "output_type": "stream",
     "text": [
      "\n",
      "Use the following piece of context to answer the question asked.\n",
      "Please try to provide the answer only based on the context\n",
      "\n",
      "8 U.S. Census Bureau\n",
      "which was the state’s uninsured \n",
      "rate in 2019, the year before it \n",
      "expanded Medicaid eligibility.22\n",
      "Declines in the uninsured rate in \n",
      "the majority of these states were \n",
      "related to changes in their public \n",
      "and private coverage rates. For \n",
      "seven of the states with lower \n",
      "uninsured rates in 2022, the dif-\n",
      "ference was driven by increases \n",
      "in private coverage. These states \n",
      "were Florida, Kansas, Mississippi, \n",
      "North Carolina, Ohio, South \n",
      "Carolina, and Texas.\n",
      "For seven states, the uninsured \n",
      "rate decrease was related to \n",
      "increases in public coverage with \n",
      "no corresponding change in the \n",
      "level of private coverage. These \n",
      "states were Alabama, California, \n",
      "Georgia, Illinois, Indiana, Michigan, \n",
      "and Oklahoma. In three states \n",
      "(Missouri, New York, and Virginia), \n",
      "it was shifts in coverage from pri-\n",
      "vate to public that contributed to \n",
      "the decline in their uninsured rates. \n",
      "The uninsured rate in expansion \n",
      "states as a group decreased from \n",
      "6.8 percent to 6.3 percent; non-\n",
      "\n",
      "36 The changes in the uninsured \n",
      "rates from 2021 to 2022 in Dallas-Fort \n",
      "Worth-Arlington, TX (1.0 percentage \n",
      "points); Denver-Aurora-Lakewood, CO \n",
      "(1.4 percentage points); Houston-The \n",
      "Woodlands-Sugar Land, TX (1.3 percentage \n",
      "points); and Orlando-Kissimmee-Sanford, FL \n",
      "(1.4 percentage points), were not statistically \n",
      "different from the change in Charlotte-\n",
      "Concord-Gastonia, NC-SC.\n",
      "\n",
      "erage (78.4 percent) in 2022, \n",
      "while New Mexico had the low-\n",
      "est private coverage rate (54.4 \n",
      "percent) (Figure 3).9\n",
      "• Utah had the lowest rate of \n",
      "public coverage in 2022 (22.2 \n",
      "percent), and New Mexico had \n",
      "the highest (Figure 4). \n",
      "• Twenty-seven states had lower \n",
      "uninsured rates in 2022 com-\n",
      "pared with 2021. Maine was the \n",
      "only state whose uninsured rate \n",
      "increased (6.6 percent in 2022, \n",
      "up from 5.7 percent in 2021) \n",
      "(Figure 1 and Appendix Table \n",
      "B-1).\n",
      "• From 2021 to 2022, 13 states \n",
      "reported increases in public cov-\n",
      "erage, with only Rhode Island \n",
      "reporting a decrease of 2.2 \n",
      "percentage points (Appendix \n",
      "Table B-3).\n",
      "8 The Current Population Survey Annual \n",
      "Social and Economic Supplement (CPS \n",
      "ASEC) is the leading source of national level \n",
      "estimates of health insurance coverage. For a \n",
      "comparison of ACS and CPS ASEC measures \n",
      "of health insurance coverage, refer to <www.\n",
      "census.gov/topics/health/health-insurance/\n",
      "guidance.html>.\n",
      "9 Respondents may have more than one\n",
      "Question:DIFFERENCES IN THE\n",
      "UNINSURED RATE BY STATE\n",
      "IN 2022\n",
      "\n",
      "Helpful Answers:\n",
      " \n",
      "1. The following table summarizes the\n",
      "\n",
      "uninsured rate by state in the\n",
      "\n",
      "uninsured rate by year in the\n",
      "\n",
      "uninsured rate by year in the\n",
      "\n",
      "uninsured rate by year in the\n",
      "\n",
      "uninsured rate by year in the\n",
      "\n",
      "uninsured rate by year in the\n",
      "\n",
      "uninsured rate by year in the\n",
      "\n",
      "uninsured rate by year in the\n",
      "\n",
      "uninsured rate by year in the\n",
      "\n",
      "uninsured rate by year in the\n",
      "\n",
      "uninsured rate by year in the\n",
      "\n",
      "uninsured rate by year in the\n",
      "\n",
      "uninsured rate by year in the\n",
      "\n",
      "uninsured rate by year in the\n",
      "\n",
      "uninsured rate by year in the\n",
      "\n",
      "uninsured rate by year in the\n",
      "\n",
      "uninsured rate by year in the\n",
      "\n",
      "uninsured rate by year in the\n",
      "\n",
      "uninsured rate by year in the\n",
      "\n",
      "uninsured rate by year in the\n",
      "\n",
      "uninsured rate by year in the\n",
      "\n",
      "uninsured rate by year in the\n",
      "\n",
      "uninsured rate by year in the\n",
      "\n",
      "uninsured rate by year in the\n",
      "\n",
      "uninsured rate by year in the\n",
      "\n",
      "uninsured rate by year in the\n",
      "\n",
      "uninsured rate by year in the\n",
      "\n",
      "uninsured rate by year in the\n",
      "\n",
      "uninsured rate by year in the\n",
      "\n",
      "uninsured rate by year in the\n",
      "\n",
      "uninsured rate by year in the\n",
      "\n",
      "uninsured rate by year in the\n",
      "\n",
      "\n"
     ]
    }
   ],
   "source": [
    "print(result['result'])"
   ]
  }
 ],
 "metadata": {
  "kernelspec": {
   "display_name": "langchain",
   "language": "python",
   "name": "python3"
  },
  "language_info": {
   "codemirror_mode": {
    "name": "ipython",
    "version": 3
   },
   "file_extension": ".py",
   "mimetype": "text/x-python",
   "name": "python",
   "nbconvert_exporter": "python",
   "pygments_lexer": "ipython3",
   "version": "3.12.2"
  }
 },
 "nbformat": 4,
 "nbformat_minor": 2
}
