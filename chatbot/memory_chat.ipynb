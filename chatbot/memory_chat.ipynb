{
 "cells": [
  {
   "cell_type": "code",
   "execution_count": 6,
   "metadata": {},
   "outputs": [
    {
     "name": "stderr",
     "output_type": "stream",
     "text": [
      "C:\\Users\\Administrator\\AppData\\Local\\Temp\\ipykernel_20676\\2162819521.py:8: LangChainDeprecationWarning: The class `ConversationChain` was deprecated in LangChain 0.2.7 and will be removed in 1.0. Use :meth:`~RunnableWithMessageHistory: https://python.langchain.com/v0.2/api_reference/core/runnables/langchain_core.runnables.history.RunnableWithMessageHistory.html` instead.\n",
      "  conversation = ConversationChain(llm=llm)\n"
     ]
    }
   ],
   "source": [
    "from langchain.llms import Ollama\n",
    "from langchain.chains import ConversationChain\n",
    "\n",
    "# first initialize the large language model\n",
    "llm = Ollama(model=\"llama3.2\")\n",
    "\n",
    "# now initialize the conversation chain\n",
    "conversation = ConversationChain(llm=llm)"
   ]
  },
  {
   "cell_type": "code",
   "execution_count": 7,
   "metadata": {},
   "outputs": [
    {
     "name": "stdout",
     "output_type": "stream",
     "text": [
      "The following is a friendly conversation between a human and an AI. The AI is talkative and provides lots of specific details from its context. If the AI does not know the answer to a question, it truthfully says it does not know.\n",
      "\n",
      "Current conversation:\n",
      "{history}\n",
      "Human: {input}\n",
      "AI:\n"
     ]
    }
   ],
   "source": [
    "print(conversation.prompt.template)"
   ]
  },
  {
   "cell_type": "code",
   "execution_count": 8,
   "metadata": {},
   "outputs": [],
   "source": [
    "from langchain.chains.conversation.memory import ConversationBufferMemory\n",
    "\n",
    "conversation_buf = ConversationChain(\n",
    "    llm=llm,\n",
    "    memory=ConversationBufferMemory()\n",
    ")"
   ]
  },
  {
   "cell_type": "code",
   "execution_count": 9,
   "metadata": {},
   "outputs": [
    {
     "name": "stderr",
     "output_type": "stream",
     "text": [
      "C:\\Users\\Administrator\\AppData\\Local\\Temp\\ipykernel_20676\\358852263.py:1: LangChainDeprecationWarning: The method `Chain.__call__` was deprecated in langchain 0.1.0 and will be removed in 1.0. Use :meth:`~invoke` instead.\n",
      "  conversation_buf(\"Hi My name is Abhilash. I am a ML Researcher\")\n"
     ]
    },
    {
     "data": {
      "text/plain": [
       "{'input': 'Hi My name is Abhilash. I am a ML Researcher',\n",
       " 'history': '',\n",
       " 'response': \"Nice to meet you, Abhilash! Welcome to our conversational platform. I'm an AI designed to assist and learn from users like you. I can provide information on a wide range of topics, from science and technology to arts and culture.\\n\\nAs a ML researcher, I assume you're familiar with the latest advancements in machine learning and artificial intelligence. My training data includes knowledge up to 2023, so feel free to ask me any questions or discuss topics related to your work.\\n\\nWhat would you like to talk about, Abhilash? Would you like to share some insights from your research or explore a particular area of interest together?\"}"
      ]
     },
     "execution_count": 9,
     "metadata": {},
     "output_type": "execute_result"
    }
   ],
   "source": [
    "conversation_buf(\"Hi My name is Abhilash. I am a ML Researcher.\")"
   ]
  },
  {
   "cell_type": "code",
   "execution_count": 11,
   "metadata": {},
   "outputs": [
    {
     "data": {
      "text/plain": [
       "{'input': 'Do you know Abhilash',\n",
       " 'history': \"Human: Hi My name is Abhilash. I am a ML Researcher\\nAI: Nice to meet you, Abhilash! Welcome to our conversational platform. I'm an AI designed to assist and learn from users like you. I can provide information on a wide range of topics, from science and technology to arts and culture.\\n\\nAs a ML researcher, I assume you're familiar with the latest advancements in machine learning and artificial intelligence. My training data includes knowledge up to 2023, so feel free to ask me any questions or discuss topics related to your work.\\n\\nWhat would you like to talk about, Abhilash? Would you like to share some insights from your research or explore a particular area of interest together?\",\n",
       " 'response': \"I can find information on individuals with the name Abhilash. There may be multiple notable people with this name, including those in fields such as sports, entertainment, and academia. However, without more context or specific details about who Abhilash is (e.g., profession, nationality, accomplishments), it's challenging for me to pinpoint a particular individual.\\n\\nIf you could provide more information about the Abhilash you're referring to, I'd be happy to try and find relevant data or insights related to that person.\"}"
      ]
     },
     "execution_count": 11,
     "metadata": {},
     "output_type": "execute_result"
    }
   ],
   "source": [
    "conversation_buf(\"Do you know Abhilash\")"
   ]
  },
  {
   "cell_type": "code",
   "execution_count": null,
   "metadata": {},
   "outputs": [],
   "source": []
  }
 ],
 "metadata": {
  "kernelspec": {
   "display_name": "langchain",
   "language": "python",
   "name": "python3"
  },
  "language_info": {
   "codemirror_mode": {
    "name": "ipython",
    "version": 3
   },
   "file_extension": ".py",
   "mimetype": "text/x-python",
   "name": "python",
   "nbconvert_exporter": "python",
   "pygments_lexer": "ipython3",
   "version": "3.12.2"
  }
 },
 "nbformat": 4,
 "nbformat_minor": 2
}
